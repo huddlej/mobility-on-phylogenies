{
 "cells": [
  {
   "cell_type": "markdown",
   "metadata": {},
   "source": [
    "# Annotate phylogeny of Californian SARS-CoV-2 sequences with mobility data\n",
    "\n",
    "This notebook is a proof of concept for how one might annotate phylogenies inferred from SARS-CoV-2 genomes with mobility data to better understand how changes in mobility are related to viral transmission."
   ]
  },
  {
   "cell_type": "markdown",
   "metadata": {},
   "source": [
    "## Setup\n",
    "\n",
    "Import modules and define utility functions."
   ]
  },
  {
   "cell_type": "code",
   "execution_count": 1,
   "metadata": {},
   "outputs": [],
   "source": [
    "from augur.utils import json_to_tree\n",
    "import datetime\n",
    "import json\n",
    "import pandas as pd\n",
    "import requests"
   ]
  },
  {
   "cell_type": "code",
   "execution_count": 2,
   "metadata": {},
   "outputs": [],
   "source": [
    "# Convert numerical dates to ISO dates.\n",
    "def float_to_datestring(time):\n",
    "    \"\"\"Convert a floating point date from TreeTime `numeric_date` to a date string\n",
    "    \"\"\"\n",
    "    # Extract the year and remainder from the floating point date.\n",
    "    year = int(time)\n",
    "    remainder = time - year\n",
    "\n",
    "    # Calculate the day of the year (out of 365 + 0.25 for leap years).\n",
    "    tm_yday = int(remainder * 365.25)\n",
    "    if tm_yday == 0:\n",
    "        tm_yday = 1\n",
    "\n",
    "    # Construct a date object from the year and day of the year.\n",
    "    date = datetime.datetime.strptime(\"%s-%s\" % (year, tm_yday), \"%Y-%j\")\n",
    "\n",
    "    # Build the date string with zero-padded months and days.\n",
    "    date_string = \"%s-%.2i-%.2i\" % (date.year, date.month, date.day)\n",
    "\n",
    "    return date_string"
   ]
  },
  {
   "cell_type": "markdown",
   "metadata": {},
   "source": [
    "## Prepare mobility data"
   ]
  },
  {
   "cell_type": "markdown",
   "metadata": {},
   "source": [
    "Download the Google Mobility data."
   ]
  },
  {
   "cell_type": "code",
   "execution_count": 5,
   "metadata": {},
   "outputs": [
    {
     "name": "stderr",
     "output_type": "stream",
     "text": [
      "/Users/jlhudd/miniconda3/envs/mobility/lib/python3.6/site-packages/IPython/core/interactiveshell.py:3072: DtypeWarning: Columns (4) have mixed types.Specify dtype option on import or set low_memory=False.\n",
      "  interactivity=interactivity, compiler=compiler, result=result)\n"
     ]
    }
   ],
   "source": [
    "mobility_data_url = \"https://www.gstatic.com/covid19/mobility/Global_Mobility_Report.csv?cachebust=204bd65a761b3b2a\"\n",
    "df = pd.read_csv(mobility_data_url)"
   ]
  },
  {
   "cell_type": "markdown",
   "metadata": {},
   "source": [
    "Extract rows for California."
   ]
  },
  {
   "cell_type": "code",
   "execution_count": 6,
   "metadata": {},
   "outputs": [],
   "source": [
    "california_df = df.query(\"country_region_code == 'US' & sub_region_1 == 'California'\").copy()"
   ]
  },
  {
   "cell_type": "markdown",
   "metadata": {},
   "source": [
    "Extract rows with county-level data."
   ]
  },
  {
   "cell_type": "code",
   "execution_count": 7,
   "metadata": {},
   "outputs": [],
   "source": [
    "county_level_df = california_df[~pd.isnull(california_df[\"sub_region_2\"])].copy()"
   ]
  },
  {
   "cell_type": "markdown",
   "metadata": {},
   "source": [
    "Select a subset of relevant columns. In this notebook, we only use the change from baseline mobility for retail and recreation as an example."
   ]
  },
  {
   "cell_type": "code",
   "execution_count": 8,
   "metadata": {},
   "outputs": [],
   "source": [
    "county_level_df = county_level_df.loc[:, [\"sub_region_2\", \"date\", \"retail_and_recreation_percent_change_from_baseline\"]].copy()"
   ]
  },
  {
   "cell_type": "markdown",
   "metadata": {},
   "source": [
    "Rename mobility column name for county to a more interpretable name."
   ]
  },
  {
   "cell_type": "code",
   "execution_count": 9,
   "metadata": {},
   "outputs": [],
   "source": [
    "county_level_df[\"county\"] = county_level_df[\"sub_region_2\"].str.replace(\" County\", \"\")"
   ]
  },
  {
   "cell_type": "markdown",
   "metadata": {},
   "source": [
    "## Prepare phylogenetic data\n",
    "\n",
    "Download the latest California tree from covidtracker."
   ]
  },
  {
   "cell_type": "code",
   "execution_count": 10,
   "metadata": {},
   "outputs": [],
   "source": [
    "tree_url = \"https://github.com/czbiohub/covidtracker/raw/master/auspice/covidtracker_ca.json\"\n",
    "response = requests.get(tree_url)"
   ]
  },
  {
   "cell_type": "markdown",
   "metadata": {},
   "source": [
    "Load the tree."
   ]
  },
  {
   "cell_type": "code",
   "execution_count": 11,
   "metadata": {},
   "outputs": [],
   "source": [
    "tree_json = json.loads(response.content)\n",
    "tree = json_to_tree(tree_json)"
   ]
  },
  {
   "cell_type": "markdown",
   "metadata": {},
   "source": [
    "Extract strain name, date, and county for each tip."
   ]
  },
  {
   "cell_type": "code",
   "execution_count": 12,
   "metadata": {},
   "outputs": [],
   "source": [
    "attrs = [\n",
    "    \"county\",\n",
    "    \"num_date\"\n",
    "]"
   ]
  },
  {
   "cell_type": "code",
   "execution_count": 13,
   "metadata": {},
   "outputs": [],
   "source": [
    "tree_records = []\n",
    "for tip in tree.find_clades(terminal=True):\n",
    "    record = {\"strain\": tip.name}\n",
    "    for attr in attrs:\n",
    "        if attr in tip.node_attrs:\n",
    "            record[attr] = tip.node_attrs[attr][\"value\"]\n",
    "        else:\n",
    "            record[attr] = \"N/A\"\n",
    "\n",
    "    tree_records.append(record)"
   ]
  },
  {
   "cell_type": "code",
   "execution_count": 14,
   "metadata": {},
   "outputs": [],
   "source": [
    "tree_df = pd.DataFrame(tree_records)"
   ]
  },
  {
   "cell_type": "markdown",
   "metadata": {},
   "source": [
    "Convert numerical dates to ISO dates."
   ]
  },
  {
   "cell_type": "code",
   "execution_count": 15,
   "metadata": {},
   "outputs": [],
   "source": [
    "tree_df[\"date\"] = tree_df[\"num_date\"].apply(float_to_datestring)"
   ]
  },
  {
   "cell_type": "markdown",
   "metadata": {},
   "source": [
    "## Annotate phylogenetic data with mobility data"
   ]
  },
  {
   "cell_type": "markdown",
   "metadata": {},
   "source": [
    "Annotate strain metadata with mobility data for the corresponding date and county. Drop records where we don't have any mobility information. Keep only a subset of the final columns."
   ]
  },
  {
   "cell_type": "code",
   "execution_count": 16,
   "metadata": {},
   "outputs": [],
   "source": [
    "tree_with_mobility_df = tree_df.merge(\n",
    "    county_level_df,\n",
    "    on=[\"date\", \"county\"],\n",
    "    how=\"left\"\n",
    ").dropna().loc[:, [\"strain\", \"date\", \"retail_and_recreation_percent_change_from_baseline\"]].copy()"
   ]
  },
  {
   "cell_type": "markdown",
   "metadata": {},
   "source": [
    "Bin mobility data into quartiles for categorical view in Nextstrain. We have limited control over how colors appear for drag-and-drop metadata. For production use, we might prefer to color by the continuous mobility values and let Nextstrain provide an appropriate color ramp.\n",
    "\n",
    "Lower binned values correspond to reduced mobility."
   ]
  },
  {
   "cell_type": "code",
   "execution_count": 17,
   "metadata": {},
   "outputs": [],
   "source": [
    "tree_with_mobility_df[\"binned_mobility\"] = pd.qcut(\n",
    "    tree_with_mobility_df[\"retail_and_recreation_percent_change_from_baseline\"],\n",
    "    4,\n",
    "    labels=[\"0-25%\", \"25-50%\", \"50-75%\", \"75-100%\"]\n",
    ")"
   ]
  },
  {
   "cell_type": "markdown",
   "metadata": {},
   "source": [
    "## Export annotated phylogenetic data for visualization in Nextstrain"
   ]
  },
  {
   "cell_type": "markdown",
   "metadata": {},
   "source": [
    "Save the annotated strain data to a CSV that we can drag-and-drop onto the tree in Nextstrain."
   ]
  },
  {
   "cell_type": "code",
   "execution_count": 18,
   "metadata": {},
   "outputs": [],
   "source": [
    "tree_with_mobility_df.to_csv(\n",
    "    \"california_mobility.csv\",\n",
    "    header=True,\n",
    "    index=False\n",
    ")"
   ]
  },
  {
   "cell_type": "markdown",
   "metadata": {},
   "source": [
    "Drag and drop the resulting CSV file onto the [CZB California build in Nextstrain](https://nextstrain.org/community/czbiohub/covidtracker/ca).\n",
    "\n",
    "[Change the \"Color By\" option to \"binned_mobility\"](https://nextstrain.org/community/czbiohub/covidtracker/ca?c=binned_mobility&m=num_date&p=grid), to see how mobility maps onto the phylogeny.\n",
    "\n",
    "Below is an example view showing differential mobility in the Bay Area over the entire course of the pandemic for clade 20C.\n",
    "Lower binned values correspond to reduced mobility.\n",
    "\n",
    "![Example of mobility data mapped to a phylogeny](example-of-mobility-data-mapped-to-phylogeny.png)"
   ]
  },
  {
   "cell_type": "markdown",
   "metadata": {},
   "source": [
    "## Potential next steps\n",
    "\n",
    " - Use mobility data from all available states and counties in the US\n",
    " - Use all mobility fields either as separate color-by options or as inputs to a model that outputs a general mobility score per county and date\n",
    " - Inspect the relationship between continuous mobility values per strain and number of descendant strains of each strain's immediate ancestral node\n",
    " - Investigate known transmission networks in the tree from the context of changes in county mobility\n",
    " "
   ]
  },
  {
   "cell_type": "code",
   "execution_count": null,
   "metadata": {},
   "outputs": [],
   "source": []
  }
 ],
 "metadata": {
  "kernelspec": {
   "display_name": "Python 3",
   "language": "python",
   "name": "python3"
  },
  "language_info": {
   "codemirror_mode": {
    "name": "ipython",
    "version": 3
   },
   "file_extension": ".py",
   "mimetype": "text/x-python",
   "name": "python",
   "nbconvert_exporter": "python",
   "pygments_lexer": "ipython3",
   "version": "3.6.10"
  }
 },
 "nbformat": 4,
 "nbformat_minor": 4
}
